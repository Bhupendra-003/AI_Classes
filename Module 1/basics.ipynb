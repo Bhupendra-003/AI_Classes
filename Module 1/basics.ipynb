{
 "cells": [
  {
   "cell_type": "code",
   "execution_count": 5,
   "id": "b30c7470",
   "metadata": {},
   "outputs": [
    {
     "name": "stdout",
     "output_type": "stream",
     "text": [
      "Hello World\n"
     ]
    }
   ],
   "source": [
    "print(\"Hello World\")"
   ]
  },
  {
   "cell_type": "code",
   "execution_count": 6,
   "id": "bf9ff352",
   "metadata": {},
   "outputs": [],
   "source": [
    "a = [1, 2, 3]"
   ]
  },
  {
   "cell_type": "code",
   "execution_count": 7,
   "id": "98b67661",
   "metadata": {},
   "outputs": [
    {
     "name": "stdout",
     "output_type": "stream",
     "text": [
      "10\n",
      "Bhupi\n"
     ]
    }
   ],
   "source": [
    "x = 10\n",
    "name = \"Bhupi\"\n",
    "print(x)\n",
    "print(name)\n"
   ]
  },
  {
   "cell_type": "code",
   "execution_count": 8,
   "id": "23d48afa",
   "metadata": {},
   "outputs": [
    {
     "name": "stdout",
     "output_type": "stream",
     "text": [
      "<class 'int'>\n"
     ]
    }
   ],
   "source": [
    "print(type(x))"
   ]
  },
  {
   "cell_type": "code",
   "execution_count": 9,
   "id": "3bbf6411",
   "metadata": {},
   "outputs": [
    {
     "name": "stdout",
     "output_type": "stream",
     "text": [
      "<class 'str'>\n"
     ]
    }
   ],
   "source": [
    "x = input()\n",
    "print(type(x))"
   ]
  },
  {
   "cell_type": "markdown",
   "id": "5940b02a",
   "metadata": {},
   "source": [
    "### Conditional Statements in Python\n",
    "\n",
    "- If Statement\n",
    "```python\n",
    "if <expr>:\n",
    "    <statement>\n",
    "else:\n",
    "    <statement>\n",
    "```\n",
    "\n",
    "```<expr>``` is a evaluated in boolean context, if it is true then the ```<statement>``` is executed else it is skipped or else statement is executed\n"
   ]
  },
  {
   "cell_type": "code",
   "execution_count": null,
   "id": "53014407",
   "metadata": {},
   "outputs": [
    {
     "name": "stdout",
     "output_type": "stream",
     "text": [
      "yes True\n"
     ]
    }
   ],
   "source": [
    "x = 5;\n",
    "y = 10;\n",
    "if x < y:\n",
    "    print(\"yes\", x < y)\n",
    "else:\n",
    "    print(\"no\", x < y)"
   ]
  },
  {
   "cell_type": "code",
   "execution_count": 1,
   "id": "6afd12b9",
   "metadata": {},
   "outputs": [
    {
     "name": "stdout",
     "output_type": "stream",
     "text": [
      "\n",
      "def add(a, b):\n",
      "    return a + b\n",
      "\n",
      "add(1, 2)\n",
      "\n",
      "<class 'str'>\n"
     ]
    }
   ],
   "source": [
    "# Multiline Strings\n",
    "\n",
    "code = \"\"\"\n",
    "def add(a, b):\n",
    "    return a + b\n",
    "    \n",
    "add(1, 2)\n",
    "\"\"\"\n",
    "print(code)\n",
    "print(type(code))"
   ]
  },
  {
   "cell_type": "code",
   "execution_count": null,
   "id": "d73d74e3",
   "metadata": {},
   "outputs": [
    {
     "name": "stdout",
     "output_type": "stream",
     "text": [
      "My age is 21\n",
      "<class 'str'>\n",
      "('My age is ', 21)\n",
      "<class 'tuple'>\n"
     ]
    }
   ],
   "source": [
    "age = 21\n",
    "text = \"My age is \" + str(age)\n",
    "print(text)\n",
    "print(type(text)) # <class 'str'>\n",
    "\n",
    "age = 21\n",
    "text = \"My age is \", age\n",
    "print(text)\n",
    "print(type(text)) # <class 'tuple'>\n"
   ]
  },
  {
   "cell_type": "code",
   "execution_count": 7,
   "id": "5cc23bc5",
   "metadata": {},
   "outputs": [
    {
     "name": "stdout",
     "output_type": "stream",
     "text": [
      "hello world\n",
      "HELLO WORLD\n",
      "Hello World\n",
      "Jello World\n",
      "['Hello', 'World']\n"
     ]
    }
   ],
   "source": [
    "#String methods\n",
    "\n",
    "a = \"Hello World\"\n",
    "print(a.lower()) # returns hello world\n",
    "print(a.upper()) # returns HELLO WORLD\n",
    "print(a.strip()) # returns \"Hello World\" without the leading and trailing spaces\n",
    "print(a.replace(\"H\", \"J\")) # returns \"Jello World\"\n",
    "print(a.split(\" \")) # returns ['Hello', 'World']\n"
   ]
  }
 ],
 "metadata": {
  "kernelspec": {
   "display_name": "Python 3",
   "language": "python",
   "name": "python3"
  },
  "language_info": {
   "codemirror_mode": {
    "name": "ipython",
    "version": 3
   },
   "file_extension": ".py",
   "mimetype": "text/x-python",
   "name": "python",
   "nbconvert_exporter": "python",
   "pygments_lexer": "ipython3",
   "version": "3.13.3"
  }
 },
 "nbformat": 4,
 "nbformat_minor": 5
}
