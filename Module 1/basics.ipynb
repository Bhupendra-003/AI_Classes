{
 "cells": [
  {
   "cell_type": "code",
   "execution_count": 5,
   "id": "b30c7470",
   "metadata": {},
   "outputs": [
    {
     "name": "stdout",
     "output_type": "stream",
     "text": [
      "Hello World\n"
     ]
    }
   ],
   "source": [
    "print(\"Hello World\")"
   ]
  },
  {
   "cell_type": "code",
   "execution_count": 6,
   "id": "bf9ff352",
   "metadata": {},
   "outputs": [],
   "source": [
    "a = [1, 2, 3]"
   ]
  },
  {
   "cell_type": "code",
   "execution_count": 7,
   "id": "98b67661",
   "metadata": {},
   "outputs": [
    {
     "name": "stdout",
     "output_type": "stream",
     "text": [
      "10\n",
      "Bhupi\n"
     ]
    }
   ],
   "source": [
    "x = 10\n",
    "name = \"Bhupi\"\n",
    "print(x)\n",
    "print(name)\n"
   ]
  },
  {
   "cell_type": "code",
   "execution_count": 8,
   "id": "23d48afa",
   "metadata": {},
   "outputs": [
    {
     "name": "stdout",
     "output_type": "stream",
     "text": [
      "<class 'int'>\n"
     ]
    }
   ],
   "source": [
    "print(type(x))"
   ]
  },
  {
   "cell_type": "code",
   "execution_count": 9,
   "id": "3bbf6411",
   "metadata": {},
   "outputs": [
    {
     "name": "stdout",
     "output_type": "stream",
     "text": [
      "<class 'str'>\n"
     ]
    }
   ],
   "source": [
    "x = input()\n",
    "print(type(x))"
   ]
  },
  {
   "cell_type": "markdown",
   "id": "cef44607",
   "metadata": {},
   "source": [
    "### Conditional Statements in Python\n",
    "\n",
    "- If Statement\n",
    "```python\n",
    "if <expr>:\n",
    "    <statement>\n",
    "else:\n",
    "    <statement>\n",
    "```\n",
    "\n",
    "```<expr>``` is a evaluated in boolean context, if it is true then the ```<statement>``` is executed else it is skipped or else statement is executed\n"
   ]
  },
  {
   "cell_type": "code",
   "execution_count": 10,
   "id": "53014407",
   "metadata": {},
   "outputs": [
    {
     "name": "stdout",
     "output_type": "stream",
     "text": [
      "yes True\n"
     ]
    }
   ],
   "source": [
    "x = 5;\n",
    "y = 10;\n",
    "if x < y:\n",
    "    print(\"yes\", x < y)\n",
    "else:\n",
    "    print(\"no\", x < y)"
   ]
  },
  {
   "cell_type": "code",
   "execution_count": 11,
   "id": "6afd12b9",
   "metadata": {},
   "outputs": [
    {
     "name": "stdout",
     "output_type": "stream",
     "text": [
      "\n",
      "def add(a, b):\n",
      "    return a + b\n",
      "\n",
      "add(1, 2)\n",
      "\n",
      "<class 'str'>\n"
     ]
    }
   ],
   "source": [
    "# Multiline Strings\n",
    "\n",
    "code = \"\"\"\n",
    "def add(a, b):\n",
    "    return a + b\n",
    "    \n",
    "add(1, 2)\n",
    "\"\"\"\n",
    "print(code)\n",
    "print(type(code))"
   ]
  },
  {
   "cell_type": "code",
   "execution_count": 12,
   "id": "d73d74e3",
   "metadata": {},
   "outputs": [
    {
     "name": "stdout",
     "output_type": "stream",
     "text": [
      "My age is 21\n",
      "<class 'str'>\n",
      "('My age is ', 21)\n",
      "<class 'tuple'>\n"
     ]
    }
   ],
   "source": [
    "age = 21\n",
    "text = \"My age is \" + str(age)\n",
    "print(text)\n",
    "print(type(text)) # <class 'str'>\n",
    "\n",
    "age = 21\n",
    "text = \"My age is \", age\n",
    "print(text)\n",
    "print(type(text)) # <class 'tuple'>\n"
   ]
  },
  {
   "cell_type": "code",
   "execution_count": 13,
   "id": "5cc23bc5",
   "metadata": {},
   "outputs": [
    {
     "name": "stdout",
     "output_type": "stream",
     "text": [
      "hello world\n",
      "HELLO WORLD\n",
      "Hello World\n",
      "Jello World\n",
      "['Hello', 'World']\n"
     ]
    }
   ],
   "source": [
    "#String methods\n",
    "\n",
    "a = \"Hello World\"\n",
    "print(a.lower()) # returns hello world\n",
    "print(a.upper()) # returns HELLO WORLD\n",
    "print(a.strip()) # returns \"Hello World\" without the leading and trailing spaces\n",
    "print(a.replace(\"H\", \"J\")) # returns \"Jello World\"\n",
    "print(a.split(\" \")) # returns ['Hello', 'World']\n"
   ]
  },
  {
   "cell_type": "code",
   "execution_count": 14,
   "id": "d39cbb86",
   "metadata": {},
   "outputs": [
    {
     "name": "stdout",
     "output_type": "stream",
     "text": [
      "True\n"
     ]
    }
   ],
   "source": [
    "a = True\n",
    "b = False\n",
    "print(a and b or a) \n",
    "\n",
    "# a and b → True and False → False\n",
    "\n",
    "# False or a → False or True → True"
   ]
  },
  {
   "cell_type": "code",
   "execution_count": 15,
   "id": "3204f7bd",
   "metadata": {},
   "outputs": [
    {
     "name": "stdout",
     "output_type": "stream",
     "text": [
      "False\n",
      "True\n",
      "False\n",
      "True\n",
      "False\n",
      "False\n",
      "True\n"
     ]
    }
   ],
   "source": [
    "print(bool(0)) # False\n",
    "print(bool(1)) # True\n",
    "print(bool(\"\")) # False\n",
    "print(bool(\"Hello\")) # True\n",
    "print(bool(None)) # False\n",
    "print(bool(False)) # False\n",
    "print(bool(True))\n"
   ]
  },
  {
   "cell_type": "code",
   "execution_count": 16,
   "id": "a09076ce",
   "metadata": {},
   "outputs": [
    {
     "name": "stdout",
     "output_type": "stream",
     "text": [
      "100\n"
     ]
    }
   ],
   "source": [
    "a = 10\n",
    "print(a**2)"
   ]
  },
  {
   "cell_type": "markdown",
   "id": "8f8d765c",
   "metadata": {},
   "source": [
    "## Lists\n",
    "\n",
    "- Lists are used to store multiple items in a single variable.\n",
    "```python\n",
    "list = [1, 2, 3, 4, 5]\n",
    "```\n",
    "\n",
    "```python\n",
    "list = [1, \"Hello\", 3.14, True]\n",
    "```\n"
   ]
  },
  {
   "cell_type": "code",
   "execution_count": 17,
   "id": "2a23400e",
   "metadata": {},
   "outputs": [
    {
     "name": "stdout",
     "output_type": "stream",
     "text": [
      "['apple', 'banana', 'cherry']\n"
     ]
    }
   ],
   "source": [
    "thislist = [\"apple\", \"banana\", \"cherry\"]\n",
    "print(thislist)"
   ]
  },
  {
   "cell_type": "code",
   "execution_count": 18,
   "id": "35da0a06",
   "metadata": {},
   "outputs": [
    {
     "name": "stdout",
     "output_type": "stream",
     "text": [
      "['abc', 34, True, 40, 'male']\n",
      "<class 'list'>\n"
     ]
    }
   ],
   "source": [
    "# A list can store value of multiple datatypes\n",
    "list1 = [\"abc\", 34, True, 40, \"male\"]\n",
    "print(list1)\n",
    "print(type(list1))\n"
   ]
  },
  {
   "cell_type": "code",
   "execution_count": 19,
   "id": "0e4b366b",
   "metadata": {},
   "outputs": [
    {
     "name": "stdout",
     "output_type": "stream",
     "text": [
      "['apple', 'banana', 'cherry']\n"
     ]
    }
   ],
   "source": [
    "thislist = list((\"apple\", \"banana\", \"cherry\")) # note the double round-brackets\n",
    "print(thislist)"
   ]
  }
 ],
 "metadata": {
  "kernelspec": {
   "display_name": "Python 3",
   "language": "python",
   "name": "python3"
  },
  "language_info": {
   "codemirror_mode": {
    "name": "ipython",
    "version": 3
   },
   "file_extension": ".py",
   "mimetype": "text/x-python",
   "name": "python",
   "nbconvert_exporter": "python",
   "pygments_lexer": "ipython3",
   "version": "3.13.3"
  }
 },
 "nbformat": 4,
 "nbformat_minor": 5
}
